{
  "nbformat": 4,
  "nbformat_minor": 0,
  "metadata": {
    "colab": {
      "provenance": [],
      "authorship_tag": "ABX9TyNDIdaiJpfxEc17h6VIhznU",
      "include_colab_link": true
    },
    "kernelspec": {
      "name": "python3",
      "display_name": "Python 3"
    },
    "language_info": {
      "name": "python"
    }
  },
  "cells": [
    {
      "cell_type": "markdown",
      "metadata": {
        "id": "view-in-github",
        "colab_type": "text"
      },
      "source": [
        "<a href=\"https://colab.research.google.com/github/mushir2004/Quantum-Enhanced-Carbon-Footprint-Tracker-/blob/main/1.ipynb\" target=\"_parent\"><img src=\"https://colab.research.google.com/assets/colab-badge.svg\" alt=\"Open In Colab\"/></a>"
      ]
    },
    {
      "cell_type": "code",
      "execution_count": 2,
      "metadata": {
        "colab": {
          "base_uri": "https://localhost:8080/"
        },
        "id": "2VOO70hK_7sG",
        "outputId": "1673cebd-2038-423c-d9db-856b87ca6560"
      },
      "outputs": [
        {
          "output_type": "stream",
          "name": "stdout",
          "text": [
            " * Serving Flask app '__main__'\n",
            " * Debug mode: on\n"
          ]
        },
        {
          "output_type": "stream",
          "name": "stderr",
          "text": [
            "INFO:werkzeug:\u001b[31m\u001b[1mWARNING: This is a development server. Do not use it in a production deployment. Use a production WSGI server instead.\u001b[0m\n",
            " * Running on http://127.0.0.1:5000\n",
            "INFO:werkzeug:\u001b[33mPress CTRL+C to quit\u001b[0m\n",
            "INFO:werkzeug: * Restarting with stat\n"
          ]
        }
      ],
      "source": [
        "from flask import Flask, request, jsonify\n",
        "import numpy as np\n",
        "\n",
        "app = Flask(__name__)\n",
        "\n",
        "# Assuming you have a function to calculate the carbon footprint\n",
        "# Replace this with the actual model calculation logic\n",
        "def calculate_carbon_footprint(data):\n",
        "    # Extract features from the data\n",
        "    energy = data['energy']\n",
        "    transport = data['transport']\n",
        "    food = data['food']\n",
        "    waste = data['waste']\n",
        "\n",
        "    # Dummy calculation for carbon footprint (replace with your model's prediction)\n",
        "    carbon_footprint = (energy * 0.3) + (transport * 0.2) + (food * 0.4) + (waste * 0.1)\n",
        "\n",
        "    return carbon_footprint\n",
        "\n",
        "# Define a route for predicting the carbon footprint\n",
        "@app.route('/predict', methods=['POST'])\n",
        "def predict():\n",
        "    try:\n",
        "        # Get the input data in JSON format\n",
        "        data = request.get_json()\n",
        "\n",
        "        # Validate that all required fields are present\n",
        "        if not all(key in data for key in ['energy', 'transport', 'food', 'waste']):\n",
        "            return jsonify({'error': 'Missing required parameters'}), 400\n",
        "\n",
        "        # Calculate carbon footprint\n",
        "        carbon_footprint = calculate_carbon_footprint(data)\n",
        "\n",
        "        # Return the result as a JSON response\n",
        "        return jsonify({\"carbon_footprint\": carbon_footprint})\n",
        "\n",
        "    except Exception as e:\n",
        "        return jsonify({'error': str(e)}), 500\n",
        "\n",
        "# Root route for testing\n",
        "@app.route('/')\n",
        "def index():\n",
        "    return \"Welcome to the Carbon Footprint Tracker API!\"\n",
        "\n",
        "if __name__ == '__main__':\n",
        "    app.run(debug=True)\n"
      ]
    }
  ]
}